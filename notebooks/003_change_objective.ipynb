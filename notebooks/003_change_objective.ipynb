{
 "cells": [
  {
   "cell_type": "code",
   "execution_count": 2,
   "metadata": {},
   "outputs": [
    {
     "name": "stdout",
     "output_type": "stream",
     "text": [
      "(5237892, 17)\n"
     ]
    },
    {
     "data": {
      "text/html": [
       "<div><style>\n",
       ".dataframe > thead > tr,\n",
       ".dataframe > tbody > tr {\n",
       "  text-align: right;\n",
       "  white-space: pre-wrap;\n",
       "}\n",
       "</style>\n",
       "<small>shape: (5, 17)</small><table border=\"1\" class=\"dataframe\"><thead><tr><th>stock_id</th><th>date_id</th><th>seconds_in_bucket</th><th>imbalance_size</th><th>imbalance_buy_sell_flag</th><th>reference_price</th><th>matched_size</th><th>far_price</th><th>near_price</th><th>bid_price</th><th>bid_size</th><th>ask_price</th><th>ask_size</th><th>wap</th><th>target</th><th>time_id</th><th>row_id</th></tr><tr><td>u16</td><td>u16</td><td>u16</td><td>f32</td><td>i8</td><td>f32</td><td>f32</td><td>f32</td><td>f32</td><td>f32</td><td>f32</td><td>f32</td><td>f32</td><td>f32</td><td>f32</td><td>u32</td><td>str</td></tr></thead><tbody><tr><td>0</td><td>0</td><td>0</td><td>3.1806e6</td><td>1</td><td>0.999812</td><td>1.3380277e7</td><td>null</td><td>null</td><td>0.999812</td><td>60651.5</td><td>1.000026</td><td>8493.030273</td><td>1.0</td><td>-3.029704</td><td>0</td><td>&quot;0_0_0&quot;</td></tr><tr><td>1</td><td>0</td><td>0</td><td>166603.90625</td><td>-1</td><td>0.999896</td><td>1.6422e6</td><td>null</td><td>null</td><td>0.999896</td><td>3233.040039</td><td>1.00066</td><td>20605.089844</td><td>1.0</td><td>-5.519986</td><td>0</td><td>&quot;0_0_1&quot;</td></tr><tr><td>2</td><td>0</td><td>0</td><td>302879.875</td><td>-1</td><td>0.999561</td><td>1.819368e6</td><td>null</td><td>null</td><td>0.999403</td><td>37956.0</td><td>1.000298</td><td>18995.0</td><td>1.0</td><td>-8.38995</td><td>0</td><td>&quot;0_0_2&quot;</td></tr><tr><td>3</td><td>0</td><td>0</td><td>1.1917682e7</td><td>-1</td><td>1.000171</td><td>1.8389746e7</td><td>null</td><td>null</td><td>0.999999</td><td>2324.899902</td><td>1.000214</td><td>479032.40625</td><td>1.0</td><td>-4.010201</td><td>0</td><td>&quot;0_0_3&quot;</td></tr><tr><td>4</td><td>0</td><td>0</td><td>447549.96875</td><td>-1</td><td>0.999532</td><td>1.7860614e7</td><td>null</td><td>null</td><td>0.999394</td><td>16485.539062</td><td>1.000016</td><td>434.100006</td><td>1.0</td><td>-7.349849</td><td>0</td><td>&quot;0_0_4&quot;</td></tr></tbody></table></div>"
      ],
      "text/plain": [
       "shape: (5, 17)\n",
       "┌──────────┬─────────┬───────────────────┬────────────────┬───┬─────┬───────────┬─────────┬────────┐\n",
       "│ stock_id ┆ date_id ┆ seconds_in_bucket ┆ imbalance_size ┆ … ┆ wap ┆ target    ┆ time_id ┆ row_id │\n",
       "│ ---      ┆ ---     ┆ ---               ┆ ---            ┆   ┆ --- ┆ ---       ┆ ---     ┆ ---    │\n",
       "│ u16      ┆ u16     ┆ u16               ┆ f32            ┆   ┆ f32 ┆ f32       ┆ u32     ┆ str    │\n",
       "╞══════════╪═════════╪═══════════════════╪════════════════╪═══╪═════╪═══════════╪═════════╪════════╡\n",
       "│ 0        ┆ 0       ┆ 0                 ┆ 3.1806e6       ┆ … ┆ 1.0 ┆ -3.029704 ┆ 0       ┆ 0_0_0  │\n",
       "│ 1        ┆ 0       ┆ 0                 ┆ 166603.90625   ┆ … ┆ 1.0 ┆ -5.519986 ┆ 0       ┆ 0_0_1  │\n",
       "│ 2        ┆ 0       ┆ 0                 ┆ 302879.875     ┆ … ┆ 1.0 ┆ -8.38995  ┆ 0       ┆ 0_0_2  │\n",
       "│ 3        ┆ 0       ┆ 0                 ┆ 1.1917682e7    ┆ … ┆ 1.0 ┆ -4.010201 ┆ 0       ┆ 0_0_3  │\n",
       "│ 4        ┆ 0       ┆ 0                 ┆ 447549.96875   ┆ … ┆ 1.0 ┆ -7.349849 ┆ 0       ┆ 0_0_4  │\n",
       "└──────────┴─────────┴───────────────────┴────────────────┴───┴─────┴───────────┴─────────┴────────┘"
      ]
     },
     "execution_count": 2,
     "metadata": {},
     "output_type": "execute_result"
    }
   ],
   "source": [
    "from hydra import compose, initialize\n",
    "import polars as pl\n",
    "from sklearn.metrics import mean_absolute_error\n",
    "from src.processing import feature_engineering, preprocessing\n",
    "from run.train import train_cv_for_ensemble\n",
    "\n",
    "with initialize(config_path=\"../run/conf\", version_base=None):\n",
    "    cfg = compose(config_name=\"train\")\n",
    "cfg.cv.n_splits = 3\n",
    "\n",
    "df = pl.read_csv(\"../data/input/train.csv\")\n",
    "df = preprocessing(df)\n",
    "print(df.shape)\n",
    "df.head()"
   ]
  },
  {
   "cell_type": "markdown",
   "metadata": {},
   "source": [
    "`stock_wap_t60`を目的変数として学習し、予測結果から計算で`target`を求める方法を試す。  \n",
    "`target`より、`stock_wap_t60`の方がより直接的で予測しやすいのでは？という仮説を試す。"
   ]
  },
  {
   "cell_type": "code",
   "execution_count": 3,
   "metadata": {},
   "outputs": [
    {
     "name": "stderr",
     "output_type": "stream",
     "text": [
      "  0%|          | 0/3 [00:00<?, ?it/s]"
     ]
    },
    {
     "name": "stdout",
     "output_type": "stream",
     "text": [
      "Training until validation scores don't improve for 100 rounds\n",
      "Did not meet early stopping. Best iteration is:\n",
      "[500]\tvalid_0's l1: 0.000722449\n",
      "lgb fold 0 score: 0.0007224488757729102\n"
     ]
    },
    {
     "name": "stderr",
     "output_type": "stream",
     "text": [
      " 33%|███▎      | 1/3 [01:03<02:06, 63.04s/it]"
     ]
    },
    {
     "name": "stdout",
     "output_type": "stream",
     "text": [
      "Training until validation scores don't improve for 100 rounds\n",
      "Did not meet early stopping. Best iteration is:\n",
      "[500]\tvalid_0's l1: 0.000724886\n",
      "lgb fold 1 score: 0.0007248863309102523\n"
     ]
    },
    {
     "name": "stderr",
     "output_type": "stream",
     "text": [
      " 67%|██████▋   | 2/3 [02:06<01:03, 63.15s/it]"
     ]
    },
    {
     "name": "stdout",
     "output_type": "stream",
     "text": [
      "Training until validation scores don't improve for 100 rounds\n",
      "Did not meet early stopping. Best iteration is:\n",
      "[499]\tvalid_0's l1: 0.000703659\n",
      "lgb fold 2 score: 0.0007036591726609144\n"
     ]
    },
    {
     "name": "stderr",
     "output_type": "stream",
     "text": [
      "100%|██████████| 3/3 [03:09<00:00, 63.04s/it]"
     ]
    },
    {
     "name": "stdout",
     "output_type": "stream",
     "text": [
      "ensemble CV score: 0.0007169981264480256\n",
      "best iters: {'lgb': 499}\n"
     ]
    },
    {
     "name": "stderr",
     "output_type": "stream",
     "text": [
      "\n"
     ]
    }
   ],
   "source": [
    "df = df.with_columns(\n",
    "    pl.col(\"wap\").shift(-6).over(\"stock_id\", \"date_id\").alias(\"stock_wap_t60\")\n",
    ").drop_nulls(subset=\"stock_wap_t60\")\n",
    "\n",
    "df = feature_engineering(df, maintain_stock_id=True)\n",
    "df = df.sort(\"stock_id\", \"time_id\")\n",
    "X, y = df.drop(\"target\", \"stock_wap_t60\"), df[\"stock_wap_t60\"]\n",
    "\n",
    "# TODO: `train_cv_for_ensemble`は削除したので、書き換える必要がある\n",
    "_, _, output = train_cv_for_ensemble(cfg, X, y, model_names=[\"lgb\"])"
   ]
  },
  {
   "cell_type": "markdown",
   "metadata": {},
   "source": [
    "スコアが上がらない。つまり、別にtargetを直接予測することにそれほど問題はないことになる。  \n",
    "やや複雑な計算式で導かれるので、単純な`stock_wap_t60`の方が予測しやすいかと思ったが、そうではなかった。"
   ]
  },
  {
   "cell_type": "code",
   "execution_count": 4,
   "metadata": {},
   "outputs": [
    {
     "name": "stdout",
     "output_type": "stream",
     "text": [
      "MAE: 6.393566097605141\n"
     ]
    }
   ],
   "source": [
    "# `pred_stock_wap_t60`から、`pred_target`を算出する\n",
    "df = df.with_columns(pl.Series(output).alias(\"pred_stock_wap_t60\"))\n",
    "index_wap_df = df.group_by(\"time_id\").agg(\n",
    "    (pl.col(\"pred_stock_wap_t60\") * pl.col(\"weight\")).sum().alias(\"pred_index_wap_t60\"),\n",
    "    (pl.col(\"stock_wap_t60\") * pl.col(\"weight\")).sum().alias(\"index_wap_t60\"),\n",
    ")\n",
    "df = df.join(index_wap_df, on=\"time_id\").sort(\"stock_id\", \"time_id\")\n",
    "\n",
    "df = df.with_columns(\n",
    "    (((pl.col(\"pred_stock_wap_t60\") / pl.col(\"wap\")) - (pl.col(\"pred_index_wap_t60\") / pl.col(\"index_wap\")))*10000).alias(\"pred_target\")\n",
    ")\n",
    "\n",
    "print(f'MAE: {mean_absolute_error(df[\"target\"], df[\"pred_target\"])}')"
   ]
  },
  {
   "cell_type": "markdown",
   "metadata": {},
   "source": [
    "`stock_wap_t60`に対する予測結果を特徴量として、今度は`target`に対する学習を行う。  \n",
    "いわゆる蒸留作業をやってみる。\n",
    "- 結果\n",
    "  - 精度は上がらず。このアプローチは中止し、普通に`target`を目的変数とする方針に戻す。"
   ]
  },
  {
   "cell_type": "code",
   "execution_count": 6,
   "metadata": {},
   "outputs": [
    {
     "name": "stderr",
     "output_type": "stream",
     "text": [
      "  0%|          | 0/3 [00:00<?, ?it/s]"
     ]
    },
    {
     "name": "stdout",
     "output_type": "stream",
     "text": [
      "Training until validation scores don't improve for 100 rounds\n",
      "Did not meet early stopping. Best iteration is:\n",
      "[500]\tvalid_0's l1: 6.36464\n",
      "lgb fold 0 score: 6.364635592344532\n"
     ]
    },
    {
     "name": "stderr",
     "output_type": "stream",
     "text": [
      " 33%|███▎      | 1/3 [01:04<02:09, 64.68s/it]"
     ]
    },
    {
     "name": "stdout",
     "output_type": "stream",
     "text": [
      "Training until validation scores don't improve for 100 rounds\n",
      "Did not meet early stopping. Best iteration is:\n",
      "[500]\tvalid_0's l1: 6.34843\n",
      "lgb fold 1 score: 6.348427552225072\n"
     ]
    },
    {
     "name": "stderr",
     "output_type": "stream",
     "text": [
      " 67%|██████▋   | 2/3 [02:11<01:05, 65.85s/it]"
     ]
    },
    {
     "name": "stdout",
     "output_type": "stream",
     "text": [
      "Training until validation scores don't improve for 100 rounds\n",
      "Did not meet early stopping. Best iteration is:\n",
      "[500]\tvalid_0's l1: 6.1993\n",
      "lgb fold 2 score: 6.19930025531353\n"
     ]
    },
    {
     "name": "stderr",
     "output_type": "stream",
     "text": [
      "100%|██████████| 3/3 [03:20<00:00, 66.98s/it]"
     ]
    },
    {
     "name": "stdout",
     "output_type": "stream",
     "text": [
      "ensemble CV score: 6.304121133294378\n",
      "best iters: {'lgb': 500}\n"
     ]
    },
    {
     "name": "stderr",
     "output_type": "stream",
     "text": [
      "\n"
     ]
    }
   ],
   "source": [
    "X_distillated, y_distillated = df.drop(\"target\", \"stock_wap_t60\", \"index_wap_t60\"), df[\"target\"]\n",
    "train_cv_for_ensemble(cfg, X_distillated, y_distillated, model_names=[\"lgb\"]);"
   ]
  }
 ],
 "metadata": {
  "kernelspec": {
   "display_name": ".venv",
   "language": "python",
   "name": "python3"
  },
  "language_info": {
   "codemirror_mode": {
    "name": "ipython",
    "version": 3
   },
   "file_extension": ".py",
   "mimetype": "text/x-python",
   "name": "python",
   "nbconvert_exporter": "python",
   "pygments_lexer": "ipython3",
   "version": "3.10.13"
  }
 },
 "nbformat": 4,
 "nbformat_minor": 2
}
