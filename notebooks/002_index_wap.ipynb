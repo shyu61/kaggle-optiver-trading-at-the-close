{
 "cells": [
  {
   "cell_type": "code",
   "execution_count": 4,
   "metadata": {},
   "outputs": [
    {
     "data": {
      "text/html": [
       "<div><style>\n",
       ".dataframe > thead > tr,\n",
       ".dataframe > tbody > tr {\n",
       "  text-align: right;\n",
       "  white-space: pre-wrap;\n",
       "}\n",
       "</style>\n",
       "<small>shape: (5, 17)</small><table border=\"1\" class=\"dataframe\"><thead><tr><th>stock_id</th><th>date_id</th><th>seconds_in_bucket</th><th>imbalance_size</th><th>imbalance_buy_sell_flag</th><th>reference_price</th><th>matched_size</th><th>far_price</th><th>near_price</th><th>bid_price</th><th>bid_size</th><th>ask_price</th><th>ask_size</th><th>wap</th><th>target</th><th>time_id</th><th>row_id</th></tr><tr><td>u16</td><td>u16</td><td>u16</td><td>f32</td><td>i8</td><td>f32</td><td>f32</td><td>f32</td><td>f32</td><td>f32</td><td>f32</td><td>f32</td><td>f32</td><td>f32</td><td>f32</td><td>u32</td><td>str</td></tr></thead><tbody><tr><td>0</td><td>0</td><td>0</td><td>3.1806e6</td><td>1</td><td>0.999812</td><td>1.3380277e7</td><td>null</td><td>null</td><td>0.999812</td><td>60651.5</td><td>1.000026</td><td>8493.030273</td><td>1.0</td><td>-3.029704</td><td>0</td><td>&quot;0_0_0&quot;</td></tr><tr><td>1</td><td>0</td><td>0</td><td>166603.90625</td><td>-1</td><td>0.999896</td><td>1.6422e6</td><td>null</td><td>null</td><td>0.999896</td><td>3233.040039</td><td>1.00066</td><td>20605.089844</td><td>1.0</td><td>-5.519986</td><td>0</td><td>&quot;0_0_1&quot;</td></tr><tr><td>2</td><td>0</td><td>0</td><td>302879.875</td><td>-1</td><td>0.999561</td><td>1.819368e6</td><td>null</td><td>null</td><td>0.999403</td><td>37956.0</td><td>1.000298</td><td>18995.0</td><td>1.0</td><td>-8.38995</td><td>0</td><td>&quot;0_0_2&quot;</td></tr><tr><td>3</td><td>0</td><td>0</td><td>1.1917682e7</td><td>-1</td><td>1.000171</td><td>1.8389746e7</td><td>null</td><td>null</td><td>0.999999</td><td>2324.899902</td><td>1.000214</td><td>479032.40625</td><td>1.0</td><td>-4.010201</td><td>0</td><td>&quot;0_0_3&quot;</td></tr><tr><td>4</td><td>0</td><td>0</td><td>447549.96875</td><td>-1</td><td>0.999532</td><td>1.7860614e7</td><td>null</td><td>null</td><td>0.999394</td><td>16485.539062</td><td>1.000016</td><td>434.100006</td><td>1.0</td><td>-7.349849</td><td>0</td><td>&quot;0_0_4&quot;</td></tr></tbody></table></div>"
      ],
      "text/plain": [
       "shape: (5, 17)\n",
       "┌──────────┬─────────┬───────────────────┬────────────────┬───┬─────┬───────────┬─────────┬────────┐\n",
       "│ stock_id ┆ date_id ┆ seconds_in_bucket ┆ imbalance_size ┆ … ┆ wap ┆ target    ┆ time_id ┆ row_id │\n",
       "│ ---      ┆ ---     ┆ ---               ┆ ---            ┆   ┆ --- ┆ ---       ┆ ---     ┆ ---    │\n",
       "│ u16      ┆ u16     ┆ u16               ┆ f32            ┆   ┆ f32 ┆ f32       ┆ u32     ┆ str    │\n",
       "╞══════════╪═════════╪═══════════════════╪════════════════╪═══╪═════╪═══════════╪═════════╪════════╡\n",
       "│ 0        ┆ 0       ┆ 0                 ┆ 3.1806e6       ┆ … ┆ 1.0 ┆ -3.029704 ┆ 0       ┆ 0_0_0  │\n",
       "│ 1        ┆ 0       ┆ 0                 ┆ 166603.90625   ┆ … ┆ 1.0 ┆ -5.519986 ┆ 0       ┆ 0_0_1  │\n",
       "│ 2        ┆ 0       ┆ 0                 ┆ 302879.875     ┆ … ┆ 1.0 ┆ -8.38995  ┆ 0       ┆ 0_0_2  │\n",
       "│ 3        ┆ 0       ┆ 0                 ┆ 1.1917682e7    ┆ … ┆ 1.0 ┆ -4.010201 ┆ 0       ┆ 0_0_3  │\n",
       "│ 4        ┆ 0       ┆ 0                 ┆ 447549.96875   ┆ … ┆ 1.0 ┆ -7.349849 ┆ 0       ┆ 0_0_4  │\n",
       "└──────────┴─────────┴───────────────────┴────────────────┴───┴─────┴───────────┴─────────┴────────┘"
      ]
     },
     "execution_count": 4,
     "metadata": {},
     "output_type": "execute_result"
    }
   ],
   "source": [
    "import matplotlib.pyplot as plt\n",
    "import numpy as np\n",
    "import polars as pl\n",
    "from sklearn.linear_model import LinearRegression\n",
    "from sklearn.metrics import r2_score\n",
    "from tqdm import tqdm\n",
    "from src.processing import feature_engineering, preprocessing\n",
    "\n",
    "df = pl.read_csv(\n",
    "    \"../data/input/train.csv\",\n",
    "    dtypes={\n",
    "        \"stock_id\": pl.UInt16,\n",
    "        \"date_id\": pl.UInt16,\n",
    "        \"seconds_in_bucket\": pl.UInt16,\n",
    "        \"imbalance_size\": pl.Float32,\n",
    "        \"imbalance_buy_sell_flag\": pl.Int8,\n",
    "        \"reference_price\": pl.Float32,\n",
    "        \"matched_size\": pl.Float32,\n",
    "        \"far_price\": pl.Float32,\n",
    "        \"near_price\": pl.Float32,\n",
    "        \"bid_price\": pl.Float32,\n",
    "        \"bid_size\": pl.Float32,\n",
    "        \"ask_price\": pl.Float32,\n",
    "        \"ask_size\": pl.Float32,\n",
    "        \"wap\": pl.Float32,\n",
    "        \"target\": pl.Float32,\n",
    "        \"time_id\": pl.UInt32,\n",
    "    },\n",
    ")\n",
    "df.head()"
   ]
  },
  {
   "cell_type": "markdown",
   "metadata": {},
   "source": [
    "### IndexWAP\n",
    "- 全銘柄共通で基準となるWAPが割り当てられている\n",
    "  - これは、株価指数のようなもので、各銘柄のWAPに対して加重平均を取ることで作成されたものである。\n",
    "  - つまり、銘柄ごとに**重み（係数）**を求めることができる。\n",
    "- targetは下記の計算式で算出される\n",
    "  - `stockWAPt`は既知なので、各銘柄の重みがわかれば、`IndexWAPt`が求められる。\n",
    "  - つまり、targetの予測は、`stockWAPt+60`と`IndexWAPt+60`を予測する問題に帰着する。\n",
    "$$\n",
    "\\text{Target} = \\left( \\frac{\\text{StockWAP}_{t+60}}{\\text{StockWAP}_t} - \\frac{\\text{IndexWAP}_{t+60}}{\\text{IndexWAP}_t} \\right) \\times 10000\n",
    "$$\n"
   ]
  },
  {
   "cell_type": "code",
   "execution_count": 5,
   "metadata": {},
   "outputs": [
    {
     "name": "stdout",
     "output_type": "stream",
     "text": [
      "# stocks         : 200\n",
      "# dates          : 481\n",
      "# updates per day: 55\n"
     ]
    }
   ],
   "source": [
    "num_stocks = df[\"stock_id\"].n_unique()\n",
    "num_dates = df[\"date_id\"].n_unique()\n",
    "num_updates = df[\"seconds_in_bucket\"].n_unique()\n",
    "\n",
    "print(f\"# stocks         : {num_stocks}\")\n",
    "print(f\"# dates          : {num_dates}\")\n",
    "print(f\"# updates per day: {num_updates}\")\n",
    "\n",
    "stock_returns = np.zeros((num_stocks, num_dates, num_updates))\n",
    "index_returns = np.zeros((num_stocks, num_dates, num_updates))"
   ]
  },
  {
   "cell_type": "markdown",
   "metadata": {},
   "source": [
    "- `index_return`は下記の値。\n",
    "  - この値を算出し、stock_idごとのWAPを特徴量として線形回帰を行う。回帰直線の係数が、各銘柄の重みになる。\n",
    "$$\n",
    "\\frac{\\text{IndexWAP}_{t+60}}{\\text{IndexWAP}_t}\n",
    "$$"
   ]
  },
  {
   "cell_type": "code",
   "execution_count": 25,
   "metadata": {},
   "outputs": [
    {
     "name": "stderr",
     "output_type": "stream",
     "text": [
      " 99%|█████████▉| 95236/96200 [00:12<00:00, 7547.02it/s]\n"
     ]
    }
   ],
   "source": [
    "for (stock_id, date_id), frame in tqdm(\n",
    "    df.group_by([\"stock_id\", \"date_id\"], maintain_order=True),\n",
    "    total=num_stocks * num_dates,\n",
    "):\n",
    "    stock_return = ((frame[\"wap\"] / frame[\"wap\"].shift(6)).shift(-6) - 1) * 10_000\n",
    "    index_return = stock_return - frame[\"target\"]\n",
    "\n",
    "    stock_returns[stock_id, date_id] = stock_return.to_numpy()\n",
    "    index_returns[stock_id, date_id] = index_return.to_numpy()\n",
    "\n",
    "index_return = index_returns.mean(axis=0)"
   ]
  },
  {
   "cell_type": "code",
   "execution_count": 26,
   "metadata": {},
   "outputs": [
    {
     "name": "stdout",
     "output_type": "stream",
     "text": [
      "Coef: [0.004 0.001 0.002 0.006 0.004 0.004 0.002 0.006 0.006 0.002 0.002 0.008\n",
      " 0.006 0.002 0.008 0.006 0.002 0.006 0.004 0.002 0.004 0.001 0.006 0.004\n",
      " 0.002 0.002 0.004 0.002 0.004 0.004 0.001 0.001 0.002 0.002 0.006 0.004\n",
      " 0.004 0.004 0.006 0.002 0.002 0.04  0.002 0.002 0.004 0.04  0.002 0.001\n",
      " 0.006 0.004 0.004 0.006 0.001 0.004 0.004 0.002 0.006 0.004 0.006 0.004\n",
      " 0.006 0.004 0.002 0.001 0.002 0.004 0.002 0.008 0.004 0.004 0.002 0.004\n",
      " 0.006 0.002 0.004 0.004 0.002 0.004 0.004 0.004 0.001 0.002 0.002 0.008\n",
      " 0.02  0.004 0.006 0.002 0.02  0.002 0.002 0.006 0.004 0.002 0.001 0.02\n",
      " 0.006 0.001 0.002 0.004 0.001 0.002 0.006 0.006 0.004 0.006 0.001 0.002\n",
      " 0.004 0.006 0.006 0.001 0.04  0.006 0.002 0.004 0.002 0.002 0.006 0.002\n",
      " 0.002 0.004 0.006 0.006 0.002 0.002 0.008 0.006 0.004 0.002 0.006 0.002\n",
      " 0.004 0.006 0.002 0.004 0.001 0.004 0.002 0.004 0.008 0.006 0.008 0.002\n",
      " 0.004 0.002 0.001 0.004 0.004 0.004 0.006 0.008 0.004 0.001 0.001 0.002\n",
      " 0.006 0.004 0.001 0.002 0.006 0.004 0.006 0.008 0.002 0.002 0.004 0.002\n",
      " 0.04  0.002 0.002 0.004 0.002 0.002 0.006 0.02  0.004 0.002 0.006 0.02\n",
      " 0.001 0.002 0.006 0.004 0.006 0.004 0.004 0.004 0.004 0.002 0.004 0.04\n",
      " 0.002 0.008 0.002 0.004 0.001 0.004 0.006 0.004]\n",
      "Sum of Coef: 1.0000000000000002\n",
      "R2: 0.999999995644382\n"
     ]
    }
   ],
   "source": [
    "lr = LinearRegression()\n",
    "y = index_return.reshape(-1)\n",
    "X = stock_returns.reshape((num_stocks, -1)).T\n",
    "\n",
    "mask = ~((np.isnan(y) | np.isnan(X).any(axis=1)))\n",
    "X, y = X[mask], y[mask]\n",
    "\n",
    "lr.fit(X, y)\n",
    "\n",
    "lr.coef_ = lr.coef_.round(3)\n",
    "lr.intercept_ = 0.0\n",
    "print(\"Coef:\", lr.coef_)\n",
    "print(\"Sum of Coef:\", lr.coef_.sum())\n",
    "print(\"R2:\", r2_score(y, lr.predict(X)))"
   ]
  }
 ],
 "metadata": {
  "kernelspec": {
   "display_name": ".venv",
   "language": "python",
   "name": "python3"
  },
  "language_info": {
   "codemirror_mode": {
    "name": "ipython",
    "version": 3
   },
   "file_extension": ".py",
   "mimetype": "text/x-python",
   "name": "python",
   "nbconvert_exporter": "python",
   "pygments_lexer": "ipython3",
   "version": "3.10.13"
  }
 },
 "nbformat": 4,
 "nbformat_minor": 2
}
