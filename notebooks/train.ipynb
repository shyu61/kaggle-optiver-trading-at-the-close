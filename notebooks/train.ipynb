{
 "cells": [
  {
   "cell_type": "code",
   "execution_count": 3,
   "metadata": {},
   "outputs": [],
   "source": [
    "from pathlib import Path\n",
    "import polars as pl\n",
    "\n",
    "DATA_DIR = Path(\"../data/\")"
   ]
  },
  {
   "cell_type": "code",
   "execution_count": 4,
   "metadata": {},
   "outputs": [],
   "source": [
    "df = pl.read_csv(DATA_DIR / \"train.csv\")"
   ]
  },
  {
   "cell_type": "code",
   "execution_count": 10,
   "metadata": {},
   "outputs": [
    {
     "data": {
      "text/html": [
       "<div><style>\n",
       ".dataframe > thead > tr,\n",
       ".dataframe > tbody > tr {\n",
       "  text-align: right;\n",
       "  white-space: pre-wrap;\n",
       "}\n",
       "</style>\n",
       "<small>shape: (26_455, 17)</small><table border=\"1\" class=\"dataframe\"><thead><tr><th>stock_id</th><th>date_id</th><th>seconds_in_bucket</th><th>imbalance_size</th><th>imbalance_buy_sell_flag</th><th>reference_price</th><th>matched_size</th><th>far_price</th><th>near_price</th><th>bid_price</th><th>bid_size</th><th>ask_price</th><th>ask_size</th><th>wap</th><th>target</th><th>time_id</th><th>row_id</th></tr><tr><td>i64</td><td>i64</td><td>i64</td><td>f64</td><td>i64</td><td>f64</td><td>f64</td><td>str</td><td>str</td><td>f64</td><td>f64</td><td>f64</td><td>f64</td><td>f64</td><td>f64</td><td>i64</td><td>str</td></tr></thead><tbody><tr><td>0</td><td>0</td><td>0</td><td>3.1806e6</td><td>1</td><td>0.999812</td><td>1.3380e7</td><td>null</td><td>null</td><td>0.999812</td><td>60651.5</td><td>1.000026</td><td>8493.03</td><td>1.0</td><td>-3.029704</td><td>0</td><td>&quot;0_0_0&quot;</td></tr><tr><td>0</td><td>1</td><td>0</td><td>1870169.4</td><td>1</td><td>0.999923</td><td>5.1326e6</td><td>null</td><td>null</td><td>0.999601</td><td>9302.0</td><td>1.000998</td><td>23287.5</td><td>1.0</td><td>-14.089942</td><td>55</td><td>&quot;1_0_0&quot;</td></tr><tr><td>0</td><td>2</td><td>0</td><td>0.0</td><td>0</td><td>0.999968</td><td>9.7044e6</td><td>null</td><td>null</td><td>0.999968</td><td>4055.48</td><td>1.000185</td><td>23231.88</td><td>1.0</td><td>-6.359816</td><td>110</td><td>&quot;2_0_0&quot;</td></tr><tr><td>0</td><td>3</td><td>0</td><td>3.9938e6</td><td>-1</td><td>1.000232</td><td>8.1225e6</td><td>null</td><td>null</td><td>0.999907</td><td>9218.0</td><td>1.000341</td><td>33752.52</td><td>1.0</td><td>-7.929802</td><td>165</td><td>&quot;3_0_0&quot;</td></tr><tr><td>0</td><td>4</td><td>0</td><td>4529593.8</td><td>-1</td><td>1.000232</td><td>1.0152e7</td><td>null</td><td>null</td><td>0.999923</td><td>46870.32</td><td>1.000335</td><td>204062.16</td><td>1.0</td><td>5.9199333</td><td>220</td><td>&quot;4_0_0&quot;</td></tr><tr><td>0</td><td>5</td><td>0</td><td>4.4874e6</td><td>1</td><td>0.999717</td><td>6.1145e6</td><td>null</td><td>null</td><td>0.999818</td><td>43993.44</td><td>1.000122</td><td>29601.0</td><td>1.0</td><td>1.2600422</td><td>275</td><td>&quot;5_0_0&quot;</td></tr><tr><td>0</td><td>6</td><td>0</td><td>5.2289e6</td><td>1</td><td>0.999888</td><td>8.414683e6</td><td>null</td><td>null</td><td>0.999888</td><td>24331.97</td><td>1.000091</td><td>19706.0</td><td>1.0</td><td>8.939505</td><td>330</td><td>&quot;6_0_0&quot;</td></tr><tr><td>0</td><td>7</td><td>0</td><td>4.6806e6</td><td>-1</td><td>1.000124</td><td>6.5483e6</td><td>null</td><td>null</td><td>0.99982</td><td>14513.31</td><td>1.000124</td><td>9974.76</td><td>1.0</td><td>-6.549954</td><td>385</td><td>&quot;7_0_0&quot;</td></tr><tr><td>0</td><td>8</td><td>0</td><td>1.3349e6</td><td>-1</td><td>1.000151</td><td>4.4743e6</td><td>null</td><td>null</td><td>0.999741</td><td>24497.6</td><td>1.000048</td><td>4588.61</td><td>1.0</td><td>1.0204315</td><td>440</td><td>&quot;8_0_0&quot;</td></tr><tr><td>0</td><td>9</td><td>0</td><td>4.3544e6</td><td>1</td><td>0.999712</td><td>6.0048e6</td><td>null</td><td>null</td><td>0.999916</td><td>5199.3</td><td>1.00012</td><td>7457.12</td><td>1.0</td><td>-2.260208</td><td>495</td><td>&quot;9_0_0&quot;</td></tr><tr><td>0</td><td>10</td><td>0</td><td>640844.12</td><td>1</td><td>1.000062</td><td>7.9024e6</td><td>null</td><td>null</td><td>0.99996</td><td>3144.64</td><td>1.000164</td><td>12974.28</td><td>1.0</td><td>1.7797947</td><td>550</td><td>&quot;10_0_0&quot;</td></tr><tr><td>0</td><td>11</td><td>0</td><td>1010100.2</td><td>1</td><td>1.000018</td><td>7.7592e6</td><td>null</td><td>null</td><td>0.999915</td><td>3705.76</td><td>1.000018</td><td>780.24</td><td>1.0</td><td>-1.490116</td><td>605</td><td>&quot;11_0_0&quot;</td></tr><tr><td>&hellip;</td><td>&hellip;</td><td>&hellip;</td><td>&hellip;</td><td>&hellip;</td><td>&hellip;</td><td>&hellip;</td><td>&hellip;</td><td>&hellip;</td><td>&hellip;</td><td>&hellip;</td><td>&hellip;</td><td>&hellip;</td><td>&hellip;</td><td>&hellip;</td><td>&hellip;</td><td>&hellip;</td></tr><tr><td>0</td><td>469</td><td>540</td><td>1.3349e6</td><td>-1</td><td>0.998847</td><td>4.8804e7</td><td>&quot;0.998337&quot;</td><td>&quot;0.998337&quot;</td><td>0.998847</td><td>132467.58</td><td>0.999017</td><td>121792.16</td><td>0.998936</td><td>-0.619888</td><td>25849</td><td>&quot;469_540_0&quot;</td></tr><tr><td>0</td><td>470</td><td>540</td><td>9251269.8</td><td>1</td><td>0.997004</td><td>1.1913e8</td><td>&quot;0.997601&quot;</td><td>&quot;0.997601&quot;</td><td>0.996919</td><td>32014.16</td><td>0.99709</td><td>174471.98</td><td>0.996945</td><td>5.019903</td><td>25904</td><td>&quot;470_540_0&quot;</td></tr><tr><td>0</td><td>471</td><td>540</td><td>1.3020e6</td><td>-1</td><td>0.997515</td><td>3.6225e7</td><td>&quot;0.997002&quot;</td><td>&quot;0.997002&quot;</td><td>0.997515</td><td>55442.0</td><td>0.997685</td><td>95726.8</td><td>0.997577</td><td>2.219677</td><td>25959</td><td>&quot;471_540_0&quot;</td></tr><tr><td>0</td><td>472</td><td>540</td><td>6.2881e6</td><td>1</td><td>0.998888</td><td>3.5050e7</td><td>&quot;1.001112&quot;</td><td>&quot;1.000428&quot;</td><td>0.998717</td><td>397908.29</td><td>0.998888</td><td>109462.5</td><td>0.998851</td><td>4.3594837</td><td>26014</td><td>&quot;472_540_0&quot;</td></tr><tr><td>0</td><td>473</td><td>540</td><td>0.0</td><td>0</td><td>0.999347</td><td>3.1074e7</td><td>&quot;0.999347&quot;</td><td>&quot;0.999347&quot;</td><td>0.99918</td><td>78027.9</td><td>0.999347</td><td>69442.73</td><td>0.999268</td><td>-4.990101</td><td>26069</td><td>&quot;473_540_0&quot;</td></tr><tr><td>0</td><td>474</td><td>540</td><td>5.1366e6</td><td>1</td><td>0.995662</td><td>9.0648e7</td><td>&quot;0.995999&quot;</td><td>&quot;0.995999&quot;</td><td>0.995493</td><td>64939.91</td><td>0.995662</td><td>129665.4</td><td>0.995549</td><td>2.3400784</td><td>26124</td><td>&quot;474_540_0&quot;</td></tr><tr><td>0</td><td>475</td><td>540</td><td>2.8196e6</td><td>-1</td><td>0.996431</td><td>5.9914e7</td><td>&quot;0.996258&quot;</td><td>&quot;0.996258&quot;</td><td>0.996431</td><td>56719.1</td><td>0.996604</td><td>211276.31</td><td>0.996468</td><td>3.9994717</td><td>26179</td><td>&quot;475_540_0&quot;</td></tr><tr><td>0</td><td>476</td><td>540</td><td>2.7449e6</td><td>-1</td><td>0.997758</td><td>4.2047e7</td><td>&quot;0.997243&quot;</td><td>&quot;0.997415&quot;</td><td>0.997758</td><td>229341.52</td><td>0.99793</td><td>305124.37</td><td>0.997832</td><td>-1.659989</td><td>26234</td><td>&quot;476_540_0&quot;</td></tr><tr><td>0</td><td>477</td><td>540</td><td>3.9518e6</td><td>-1</td><td>0.998996</td><td>3.4789e7</td><td>&quot;0.998383&quot;</td><td>&quot;0.998383&quot;</td><td>0.998908</td><td>112524.39</td><td>0.999083</td><td>110317.2</td><td>0.998997</td><td>-0.230074</td><td>26289</td><td>&quot;477_540_0&quot;</td></tr><tr><td>0</td><td>478</td><td>540</td><td>821010.14</td><td>-1</td><td>1.000747</td><td>2.8056e7</td><td>&quot;1.000224&quot;</td><td>&quot;1.000399&quot;</td><td>1.000747</td><td>25944.8</td><td>1.000922</td><td>63552.87</td><td>1.000798</td><td>2.9802322</td><td>26344</td><td>&quot;478_540_0&quot;</td></tr><tr><td>0</td><td>479</td><td>540</td><td>1.9086e6</td><td>1</td><td>0.998695</td><td>5.6289e7</td><td>&quot;0.999216&quot;</td><td>&quot;0.999216&quot;</td><td>0.998521</td><td>267049.5</td><td>0.998695</td><td>69330.08</td><td>0.998659</td><td>3.889799</td><td>26399</td><td>&quot;479_540_0&quot;</td></tr><tr><td>0</td><td>480</td><td>540</td><td>475513.69</td><td>-1</td><td>0.999193</td><td>4.1686e7</td><td>&quot;0.999017&quot;</td><td>&quot;0.999017&quot;</td><td>0.999193</td><td>110123.01</td><td>0.999368</td><td>283817.38</td><td>0.999242</td><td>0.760555</td><td>26454</td><td>&quot;480_540_0&quot;</td></tr></tbody></table></div>"
      ],
      "text/plain": [
       "shape: (26_455, 17)\n",
       "┌──────────┬─────────┬─────────────┬─────────────┬───┬──────────┬────────────┬─────────┬───────────┐\n",
       "│ stock_id ┆ date_id ┆ seconds_in_ ┆ imbalance_s ┆ … ┆ wap      ┆ target     ┆ time_id ┆ row_id    │\n",
       "│ ---      ┆ ---     ┆ bucket      ┆ ize         ┆   ┆ ---      ┆ ---        ┆ ---     ┆ ---       │\n",
       "│ i64      ┆ i64     ┆ ---         ┆ ---         ┆   ┆ f64      ┆ f64        ┆ i64     ┆ str       │\n",
       "│          ┆         ┆ i64         ┆ f64         ┆   ┆          ┆            ┆         ┆           │\n",
       "╞══════════╪═════════╪═════════════╪═════════════╪═══╪══════════╪════════════╪═════════╪═══════════╡\n",
       "│ 0        ┆ 0       ┆ 0           ┆ 3.1806e6    ┆ … ┆ 1.0      ┆ -3.029704  ┆ 0       ┆ 0_0_0     │\n",
       "│ 0        ┆ 1       ┆ 0           ┆ 1870169.4   ┆ … ┆ 1.0      ┆ -14.089942 ┆ 55      ┆ 1_0_0     │\n",
       "│ 0        ┆ 2       ┆ 0           ┆ 0.0         ┆ … ┆ 1.0      ┆ -6.359816  ┆ 110     ┆ 2_0_0     │\n",
       "│ 0        ┆ 3       ┆ 0           ┆ 3.9938e6    ┆ … ┆ 1.0      ┆ -7.929802  ┆ 165     ┆ 3_0_0     │\n",
       "│ …        ┆ …       ┆ …           ┆ …           ┆ … ┆ …        ┆ …          ┆ …       ┆ …         │\n",
       "│ 0        ┆ 477     ┆ 540         ┆ 3.9518e6    ┆ … ┆ 0.998997 ┆ -0.230074  ┆ 26289   ┆ 477_540_0 │\n",
       "│ 0        ┆ 478     ┆ 540         ┆ 821010.14   ┆ … ┆ 1.000798 ┆ 2.9802322  ┆ 26344   ┆ 478_540_0 │\n",
       "│ 0        ┆ 479     ┆ 540         ┆ 1.9086e6    ┆ … ┆ 0.998659 ┆ 3.889799   ┆ 26399   ┆ 479_540_0 │\n",
       "│ 0        ┆ 480     ┆ 540         ┆ 475513.69   ┆ … ┆ 0.999242 ┆ 0.760555   ┆ 26454   ┆ 480_540_0 │\n",
       "└──────────┴─────────┴─────────────┴─────────────┴───┴──────────┴────────────┴─────────┴───────────┘"
      ]
     },
     "execution_count": 10,
     "metadata": {},
     "output_type": "execute_result"
    }
   ],
   "source": [
    "df.filter(pl.col(\"stock_id\") == 0).sort(\"seconds_in_bucket\")"
   ]
  }
 ],
 "metadata": {
  "kernelspec": {
   "display_name": ".venv",
   "language": "python",
   "name": "python3"
  },
  "language_info": {
   "codemirror_mode": {
    "name": "ipython",
    "version": 3
   },
   "file_extension": ".py",
   "mimetype": "text/x-python",
   "name": "python",
   "nbconvert_exporter": "python",
   "pygments_lexer": "ipython3",
   "version": "3.10.13"
  }
 },
 "nbformat": 4,
 "nbformat_minor": 2
}
