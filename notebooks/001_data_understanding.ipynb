{
 "cells": [
  {
   "cell_type": "code",
   "execution_count": 17,
   "metadata": {},
   "outputs": [
    {
     "data": {
      "text/html": [
       "<div><style>\n",
       ".dataframe > thead > tr,\n",
       ".dataframe > tbody > tr {\n",
       "  text-align: right;\n",
       "  white-space: pre-wrap;\n",
       "}\n",
       "</style>\n",
       "<small>shape: (5, 17)</small><table border=\"1\" class=\"dataframe\"><thead><tr><th>stock_id</th><th>date_id</th><th>seconds_in_bucket</th><th>imbalance_size</th><th>imbalance_buy_sell_flag</th><th>reference_price</th><th>matched_size</th><th>far_price</th><th>near_price</th><th>bid_price</th><th>bid_size</th><th>ask_price</th><th>ask_size</th><th>wap</th><th>target</th><th>time_id</th><th>row_id</th></tr><tr><td>i64</td><td>i64</td><td>i64</td><td>f64</td><td>i64</td><td>f64</td><td>f64</td><td>f64</td><td>f64</td><td>f64</td><td>f64</td><td>f64</td><td>f64</td><td>f64</td><td>f64</td><td>i64</td><td>str</td></tr></thead><tbody><tr><td>0</td><td>0</td><td>0</td><td>3.1806e6</td><td>1</td><td>0.999812</td><td>1.3380e7</td><td>null</td><td>null</td><td>0.999812</td><td>60651.5</td><td>1.000026</td><td>8493.03</td><td>1.0</td><td>-3.029704</td><td>0</td><td>&quot;0_0_0&quot;</td></tr><tr><td>1</td><td>0</td><td>0</td><td>166603.91</td><td>-1</td><td>0.999896</td><td>1.6422e6</td><td>null</td><td>null</td><td>0.999896</td><td>3233.04</td><td>1.00066</td><td>20605.09</td><td>1.0</td><td>-5.519986</td><td>0</td><td>&quot;0_0_1&quot;</td></tr><tr><td>2</td><td>0</td><td>0</td><td>302879.87</td><td>-1</td><td>0.999561</td><td>1.8194e6</td><td>null</td><td>null</td><td>0.999403</td><td>37956.0</td><td>1.000298</td><td>18995.0</td><td>1.0</td><td>-8.38995</td><td>0</td><td>&quot;0_0_2&quot;</td></tr><tr><td>3</td><td>0</td><td>0</td><td>1.1918e7</td><td>-1</td><td>1.000171</td><td>1.8390e7</td><td>null</td><td>null</td><td>0.999999</td><td>2324.9</td><td>1.000214</td><td>479032.4</td><td>1.0</td><td>-4.0102</td><td>0</td><td>&quot;0_0_3&quot;</td></tr><tr><td>4</td><td>0</td><td>0</td><td>447549.96</td><td>-1</td><td>0.999532</td><td>1.7861e7</td><td>null</td><td>null</td><td>0.999394</td><td>16485.54</td><td>1.000016</td><td>434.1</td><td>1.0</td><td>-7.349849</td><td>0</td><td>&quot;0_0_4&quot;</td></tr></tbody></table></div>"
      ],
      "text/plain": [
       "shape: (5, 17)\n",
       "┌──────────┬─────────┬───────────────────┬────────────────┬───┬─────┬───────────┬─────────┬────────┐\n",
       "│ stock_id ┆ date_id ┆ seconds_in_bucket ┆ imbalance_size ┆ … ┆ wap ┆ target    ┆ time_id ┆ row_id │\n",
       "│ ---      ┆ ---     ┆ ---               ┆ ---            ┆   ┆ --- ┆ ---       ┆ ---     ┆ ---    │\n",
       "│ i64      ┆ i64     ┆ i64               ┆ f64            ┆   ┆ f64 ┆ f64       ┆ i64     ┆ str    │\n",
       "╞══════════╪═════════╪═══════════════════╪════════════════╪═══╪═════╪═══════════╪═════════╪════════╡\n",
       "│ 0        ┆ 0       ┆ 0                 ┆ 3.1806e6       ┆ … ┆ 1.0 ┆ -3.029704 ┆ 0       ┆ 0_0_0  │\n",
       "│ 1        ┆ 0       ┆ 0                 ┆ 166603.91      ┆ … ┆ 1.0 ┆ -5.519986 ┆ 0       ┆ 0_0_1  │\n",
       "│ 2        ┆ 0       ┆ 0                 ┆ 302879.87      ┆ … ┆ 1.0 ┆ -8.38995  ┆ 0       ┆ 0_0_2  │\n",
       "│ 3        ┆ 0       ┆ 0                 ┆ 1.1918e7       ┆ … ┆ 1.0 ┆ -4.0102   ┆ 0       ┆ 0_0_3  │\n",
       "│ 4        ┆ 0       ┆ 0                 ┆ 447549.96      ┆ … ┆ 1.0 ┆ -7.349849 ┆ 0       ┆ 0_0_4  │\n",
       "└──────────┴─────────┴───────────────────┴────────────────┴───┴─────┴───────────┴─────────┴────────┘"
      ]
     },
     "execution_count": 17,
     "metadata": {},
     "output_type": "execute_result"
    }
   ],
   "source": [
    "import polars as pl\n",
    "\n",
    "df = pl.read_csv(\n",
    "    \"../data/input/train.csv\",\n",
    "    dtypes={\"far_price\": pl.Float64, \"near_price\": pl.Float64},\n",
    ")\n",
    "df.head()"
   ]
  },
  {
   "cell_type": "markdown",
   "metadata": {},
   "source": [
    "### Closing Auction\n",
    "- nasdaq市場において、市場終了10分前に行われる取引時間を指す\n",
    "- この期間中は、注文はすぐには約定せず、一旦プールされClosing Auction終了時に決定された価格により、取引が成立する。\n",
    "- この価格は、できるだけ多くの取引が成立する価格が選ばれる。\n",
    "  - 終了5分前時点でのこの価格は、`near_price`として公開される\n",
    "### データの意味\n",
    "- https://www.kaggle.com/competitions/optiver-trading-at-the-close/discussion/442994\n",
    "- `near_price`: 終了5分前時点でのuncross priceのこと\n",
    "- `reference_price`: best bidとbest askによって決まる値"
   ]
  },
  {
   "cell_type": "markdown",
   "metadata": {},
   "source": [
    "### データ概要\n",
    "- stock_idごとに、各日ごとのclosing auction時での価格情報がまとめられている\n",
    "- 銘柄は200種類\n",
    "- `date_id`はほとんどの銘柄で481日分あるが、それより少ないものがいくつかある。\n",
    "- `seconds_in_bucket`はclosing auction開始からの経過秒数を表し、stock_id, date_idごとに値は**一意**で540秒まである（9分間あるということ）\n",
    "- `time_id`はstock_id内で一意。date_id関係なく一意になっている。\n",
    "- `near_price`は終了5分前に公開されるので、`seconds_in_bucket < 300`ではnullになる"
   ]
  },
  {
   "cell_type": "code",
   "execution_count": 69,
   "metadata": {},
   "outputs": [
    {
     "name": "stdout",
     "output_type": "stream",
     "text": [
      "stock_id =========================================\n",
      "[  0   1   2   3   4   5   6   7   8   9  10  11  12  13  14  15  16  17\n",
      "  18  19  20  21  22  23  24  25  26  27  28  29  30  31  32  33  34  35\n",
      "  36  37  38  39  40  41  42  43  44  45  46  47  48  49  50  51  52  53\n",
      "  54  55  56  57  58  59  60  61  62  63  64  65  66  67  68  69  70  71\n",
      "  72  73  74  75  76  77  78  79  80  81  82  83  84  85  86  87  88  89\n",
      "  90  91  92  93  94  95  96  97  98  99 100 101 102 103 104 105 106 107\n",
      " 108 109 110 111 112 113 114 115 116 117 118 119 120 121 122 123 124 125\n",
      " 126 127 128 129 130 131 132 133 134 135 136 137 138 139 140 141 142 143\n",
      " 144 145 146 147 148 149 150 151 152 153 154 155 156 157 158 159 160 161\n",
      " 162 163 164 165 166 167 168 169 170 171 172 173 174 175 176 177 178 179\n",
      " 180 181 182 183 184 185 186 187 188 189 190 191 192 193 194 195 196 197\n",
      " 198 199]\n",
      "date_id value_counts =============================\n"
     ]
    },
    {
     "data": {
      "text/html": [
       "<div><style>\n",
       ".dataframe > thead > tr,\n",
       ".dataframe > tbody > tr {\n",
       "  text-align: right;\n",
       "  white-space: pre-wrap;\n",
       "}\n",
       "</style>\n",
       "<small>shape: (10, 2)</small><table border=\"1\" class=\"dataframe\"><thead><tr><th>date_id</th><th>counts</th></tr><tr><td>u32</td><td>u32</td></tr></thead><tbody><tr><td>290</td><td>1</td></tr><tr><td>480</td><td>2</td></tr><tr><td>444</td><td>2</td></tr><tr><td>411</td><td>1</td></tr><tr><td>393</td><td>1</td></tr><tr><td>481</td><td>189</td></tr><tr><td>300</td><td>1</td></tr><tr><td>186</td><td>1</td></tr><tr><td>422</td><td>1</td></tr><tr><td>477</td><td>1</td></tr></tbody></table></div>"
      ],
      "text/plain": [
       "shape: (10, 2)\n",
       "┌─────────┬────────┐\n",
       "│ date_id ┆ counts │\n",
       "│ ---     ┆ ---    │\n",
       "│ u32     ┆ u32    │\n",
       "╞═════════╪════════╡\n",
       "│ 290     ┆ 1      │\n",
       "│ 480     ┆ 2      │\n",
       "│ 444     ┆ 2      │\n",
       "│ 411     ┆ 1      │\n",
       "│ …       ┆ …      │\n",
       "│ 300     ┆ 1      │\n",
       "│ 186     ┆ 1      │\n",
       "│ 422     ┆ 1      │\n",
       "│ 477     ┆ 1      │\n",
       "└─────────┴────────┘"
      ]
     },
     "metadata": {},
     "output_type": "display_data"
    },
    {
     "name": "stdout",
     "output_type": "stream",
     "text": [
      "seconds_in_bucket ================================\n",
      "[  0  10  20  30  40  50  60  70  80  90 100 110 120 130 140 150 160 170\n",
      " 180 190 200 210 220 230 240 250 260 270 280 290 300 310 320 330 340 350\n",
      " 360 370 380 390 400 410 420 430 440 450 460 470 480 490 500 510 520 530\n",
      " 540]\n",
      "time_id ==========================================\n",
      "[    0     1     2 ... 26452 26453 26454]\n"
     ]
    }
   ],
   "source": [
    "# stock_id, date_idごとのseconds_in_bucketの重複を確認\n",
    "for row in df.group_by(\"stock_id\", \"date_id\").agg(pl.col(\"seconds_in_bucket\").value_counts()).sort(\"stock_id\", \"date_id\")[\"seconds_in_bucket\"]:\n",
    "    if len([x for x in row if x[\"counts\"] != 1]) > 0:\n",
    "        print(row)  # => 出力なし => 重複なし\n",
    "\n",
    "# stock_idごとのtime_idの重複を確認\n",
    "for row in df.group_by(\"stock_id\").agg(pl.col(\"time_id\").value_counts()).sort(\"stock_id\")[\"time_id\"]:\n",
    "    if len([x for x in row if x[\"counts\"] != 1]) > 0:\n",
    "        print(row)  # => 出力なし => 重複なし\n",
    "\n",
    "print(\"stock_id \".ljust(50, \"=\"))\n",
    "print(df[\"stock_id\"].unique().sort().to_numpy())\n",
    "\n",
    "print(\"date_id value_counts \".ljust(50, \"=\"))\n",
    "display(df.group_by(\"stock_id\").agg(pl.n_unique(\"date_id\"))[\"date_id\"].value_counts())\n",
    "\n",
    "print(\"seconds_in_bucket \".ljust(50, \"=\"))\n",
    "print(df[\"seconds_in_bucket\"].unique().sort().to_numpy())\n",
    "\n",
    "print(\"time_id \".ljust(50, \"=\"))\n",
    "print(df[\"time_id\"].unique().sort().to_numpy())"
   ]
  }
 ],
 "metadata": {
  "kernelspec": {
   "display_name": ".venv",
   "language": "python",
   "name": "python3"
  },
  "language_info": {
   "codemirror_mode": {
    "name": "ipython",
    "version": 3
   },
   "file_extension": ".py",
   "mimetype": "text/x-python",
   "name": "python",
   "nbconvert_exporter": "python",
   "pygments_lexer": "ipython3",
   "version": "3.10.13"
  }
 },
 "nbformat": 4,
 "nbformat_minor": 2
}
